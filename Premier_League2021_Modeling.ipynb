{
 "cells": [
  {
   "cell_type": "markdown",
   "metadata": {},
   "source": [
    "All data used is from Sports Reference or fbref, who gets xG from Statbomb"
   ]
  },
  {
   "cell_type": "code",
   "execution_count": 51,
   "metadata": {},
   "outputs": [],
   "source": [
    "import pandas as pd\n",
    "import numpy as np\n",
    "import seaborn as sns\n",
    "import matplotlib.pyplot as plt\n",
    "from sklearn.linear_model import LinearRegression, LogisticRegression, Ridge, RidgeCV, Lasso, \\\n",
    "LassoCV, ElasticNet, ElasticNetCV\n",
    "from sklearn.model_selection import train_test_split, cross_val_score, GridSearchCV\n",
    "from sklearn.metrics import mean_squared_error, r2_score, accuracy_score\n",
    "from sklearn.preprocessing import StandardScaler, PolynomialFeatures\n",
    "from sklearn.neighbors import KNeighborsClassifier\n",
    "from sklearn.svm import SVR\n",
    "from sklearn.decomposition import PCA"
   ]
  },
  {
   "cell_type": "code",
   "execution_count": 52,
   "metadata": {},
   "outputs": [],
   "source": [
    "pl_results_2021 = pd.read_csv('./data/pl_results2021.csv')"
   ]
  },
  {
   "cell_type": "code",
   "execution_count": 53,
   "metadata": {},
   "outputs": [
    {
     "data": {
      "text/html": [
       "<div>\n",
       "<style scoped>\n",
       "    .dataframe tbody tr th:only-of-type {\n",
       "        vertical-align: middle;\n",
       "    }\n",
       "\n",
       "    .dataframe tbody tr th {\n",
       "        vertical-align: top;\n",
       "    }\n",
       "\n",
       "    .dataframe thead th {\n",
       "        text-align: right;\n",
       "    }\n",
       "</style>\n",
       "<table border=\"1\" class=\"dataframe\">\n",
       "  <thead>\n",
       "    <tr style=\"text-align: right;\">\n",
       "      <th></th>\n",
       "      <th>Wk</th>\n",
       "      <th>Day</th>\n",
       "      <th>Date</th>\n",
       "      <th>Time</th>\n",
       "      <th>Home</th>\n",
       "      <th>xG</th>\n",
       "      <th>Score</th>\n",
       "      <th>xG.1</th>\n",
       "      <th>Away</th>\n",
       "      <th>home_score</th>\n",
       "      <th>away_score</th>\n",
       "      <th>Venue</th>\n",
       "      <th>Referee</th>\n",
       "      <th>Match Report</th>\n",
       "      <th>Notes</th>\n",
       "      <th>over/under</th>\n",
       "    </tr>\n",
       "  </thead>\n",
       "  <tbody>\n",
       "    <tr>\n",
       "      <th>0</th>\n",
       "      <td>1</td>\n",
       "      <td>Sat</td>\n",
       "      <td>2020-09-12</td>\n",
       "      <td>12:30 (07:30)</td>\n",
       "      <td>Fulham</td>\n",
       "      <td>0.2</td>\n",
       "      <td>0–3</td>\n",
       "      <td>1.8</td>\n",
       "      <td>Arsenal</td>\n",
       "      <td>0.0</td>\n",
       "      <td>3.0</td>\n",
       "      <td>Craven Cottage</td>\n",
       "      <td>Chris Kavanagh</td>\n",
       "      <td>Match Report</td>\n",
       "      <td>NaN</td>\n",
       "      <td>1</td>\n",
       "    </tr>\n",
       "    <tr>\n",
       "      <th>1</th>\n",
       "      <td>1</td>\n",
       "      <td>Sat</td>\n",
       "      <td>2020-09-12</td>\n",
       "      <td>15:00 (10:00)</td>\n",
       "      <td>Crystal Palace</td>\n",
       "      <td>0.7</td>\n",
       "      <td>1–0</td>\n",
       "      <td>0.8</td>\n",
       "      <td>Southampton</td>\n",
       "      <td>1.0</td>\n",
       "      <td>0.0</td>\n",
       "      <td>Selhurst Park</td>\n",
       "      <td>Jonathan Moss</td>\n",
       "      <td>Match Report</td>\n",
       "      <td>NaN</td>\n",
       "      <td>0</td>\n",
       "    </tr>\n",
       "    <tr>\n",
       "      <th>2</th>\n",
       "      <td>1</td>\n",
       "      <td>Sat</td>\n",
       "      <td>2020-09-12</td>\n",
       "      <td>17:30 (12:30)</td>\n",
       "      <td>Liverpool</td>\n",
       "      <td>3.3</td>\n",
       "      <td>4–3</td>\n",
       "      <td>0.6</td>\n",
       "      <td>Leeds United</td>\n",
       "      <td>4.0</td>\n",
       "      <td>3.0</td>\n",
       "      <td>Anfield</td>\n",
       "      <td>Michael Oliver</td>\n",
       "      <td>Match Report</td>\n",
       "      <td>NaN</td>\n",
       "      <td>1</td>\n",
       "    </tr>\n",
       "    <tr>\n",
       "      <th>3</th>\n",
       "      <td>1</td>\n",
       "      <td>Sat</td>\n",
       "      <td>2020-09-12</td>\n",
       "      <td>20:00 (15:00)</td>\n",
       "      <td>West Ham</td>\n",
       "      <td>1.1</td>\n",
       "      <td>0–2</td>\n",
       "      <td>1.5</td>\n",
       "      <td>Newcastle Utd</td>\n",
       "      <td>0.0</td>\n",
       "      <td>2.0</td>\n",
       "      <td>London Stadium</td>\n",
       "      <td>Stuart Attwell</td>\n",
       "      <td>Match Report</td>\n",
       "      <td>NaN</td>\n",
       "      <td>0</td>\n",
       "    </tr>\n",
       "    <tr>\n",
       "      <th>4</th>\n",
       "      <td>1</td>\n",
       "      <td>Sun</td>\n",
       "      <td>2020-09-13</td>\n",
       "      <td>14:00 (09:00)</td>\n",
       "      <td>West Brom</td>\n",
       "      <td>0.5</td>\n",
       "      <td>0–3</td>\n",
       "      <td>2.2</td>\n",
       "      <td>Leicester City</td>\n",
       "      <td>0.0</td>\n",
       "      <td>3.0</td>\n",
       "      <td>The Hawthorns</td>\n",
       "      <td>Anthony Taylor</td>\n",
       "      <td>Match Report</td>\n",
       "      <td>NaN</td>\n",
       "      <td>1</td>\n",
       "    </tr>\n",
       "  </tbody>\n",
       "</table>\n",
       "</div>"
      ],
      "text/plain": [
       "   Wk  Day        Date           Time            Home   xG Score  xG.1  \\\n",
       "0   1  Sat  2020-09-12  12:30 (07:30)          Fulham  0.2   0–3   1.8   \n",
       "1   1  Sat  2020-09-12  15:00 (10:00)  Crystal Palace  0.7   1–0   0.8   \n",
       "2   1  Sat  2020-09-12  17:30 (12:30)       Liverpool  3.3   4–3   0.6   \n",
       "3   1  Sat  2020-09-12  20:00 (15:00)        West Ham  1.1   0–2   1.5   \n",
       "4   1  Sun  2020-09-13  14:00 (09:00)       West Brom  0.5   0–3   2.2   \n",
       "\n",
       "             Away  home_score  away_score           Venue         Referee  \\\n",
       "0         Arsenal         0.0         3.0  Craven Cottage  Chris Kavanagh   \n",
       "1     Southampton         1.0         0.0   Selhurst Park   Jonathan Moss   \n",
       "2    Leeds United         4.0         3.0         Anfield  Michael Oliver   \n",
       "3   Newcastle Utd         0.0         2.0  London Stadium  Stuart Attwell   \n",
       "4  Leicester City         0.0         3.0   The Hawthorns  Anthony Taylor   \n",
       "\n",
       "   Match Report  Notes  over/under  \n",
       "0  Match Report    NaN           1  \n",
       "1  Match Report    NaN           0  \n",
       "2  Match Report    NaN           1  \n",
       "3  Match Report    NaN           0  \n",
       "4  Match Report    NaN           1  "
      ]
     },
     "execution_count": 53,
     "metadata": {},
     "output_type": "execute_result"
    }
   ],
   "source": [
    "pl_results_2021['over/under'] = np.where(pl_results_2021['home_score'] + pl_results_2021['away_score'] > 2.5, 1, 0)\n",
    "pl_results_2021.head()"
   ]
  },
  {
   "cell_type": "code",
   "execution_count": 54,
   "metadata": {},
   "outputs": [],
   "source": [
    "pl_results_2021 = pl_results_2021.rename(columns={'xG':'home_xG', 'xG.1':'away_xG'})\n",
    "#Renaming confusing xG columns"
   ]
  },
  {
   "cell_type": "code",
   "execution_count": 55,
   "metadata": {},
   "outputs": [],
   "source": [
    "pl_results_2021 = pd.get_dummies(pl_results_2021, columns=['Home'])\n",
    "pl_results_2021 = pd.get_dummies(pl_results_2021, columns=['Away'])"
   ]
  },
  {
   "cell_type": "code",
   "execution_count": 56,
   "metadata": {},
   "outputs": [
    {
     "data": {
      "text/plain": [
       "over/under             1.000000\n",
       "away_score             0.557345\n",
       "home_score             0.526173\n",
       "away_xG                0.253113\n",
       "home_xG                0.197142\n",
       "Away_West Ham          0.091812\n",
       "Away_Leeds United      0.091812\n",
       "Home_Newcastle Utd     0.067651\n",
       "Home_Manchester Utd    0.067651\n",
       "Home_Leicester City    0.067651\n",
       "Home_West Brom         0.043490\n",
       "Away_Crystal Palace    0.043490\n",
       "Home_Aston Villa       0.043490\n",
       "Away_Leicester City    0.043490\n",
       "Away_Manchester Utd    0.019329\n",
       "Away_Liverpool         0.019329\n",
       "Away_Arsenal           0.019329\n",
       "Away_Aston Villa       0.019329\n",
       "Home_West Ham          0.019329\n",
       "Away_Tottenham         0.019329\n",
       "Name: over/under, dtype: float64"
      ]
     },
     "execution_count": 56,
     "metadata": {},
     "output_type": "execute_result"
    }
   ],
   "source": [
    "pl_results_2021.corr()['over/under'].sort_values(ascending=False)[0:20]"
   ]
  },
  {
   "cell_type": "markdown",
   "metadata": {},
   "source": [
    "Could include the average xg and average xga because that will be available, but might need to add some sort of weight to that regarding which teams they have played so far. Will have to include some sort of merging with the teams' stats and these results"
   ]
  },
  {
   "cell_type": "code",
   "execution_count": 57,
   "metadata": {},
   "outputs": [],
   "source": [
    "pl_results_2021['homexg'] = \"\"\n",
    "pl_results_2021['awayxg'] = \"\""
   ]
  },
  {
   "cell_type": "code",
   "execution_count": 58,
   "metadata": {},
   "outputs": [
    {
     "data": {
      "text/plain": [
       "Index(['Wk', 'Day', 'Date', 'Time', 'home_xG', 'Score', 'away_xG',\n",
       "       'home_score', 'away_score', 'Venue', 'Referee', 'Match Report', 'Notes',\n",
       "       'over/under', 'Home_Arsenal', 'Home_Aston Villa', 'Home_Brighton',\n",
       "       'Home_Burnley', 'Home_Chelsea', 'Home_Crystal Palace', 'Home_Everton',\n",
       "       'Home_Fulham', 'Home_Leeds United', 'Home_Leicester City',\n",
       "       'Home_Liverpool', 'Home_Manchester City', 'Home_Manchester Utd',\n",
       "       'Home_Newcastle Utd', 'Home_Sheffield Utd', 'Home_Southampton',\n",
       "       'Home_Tottenham', 'Home_West Brom', 'Home_West Ham', 'Home_Wolves',\n",
       "       'Away_Arsenal', 'Away_Aston Villa', 'Away_Brighton', 'Away_Burnley',\n",
       "       'Away_Chelsea', 'Away_Crystal Palace', 'Away_Everton', 'Away_Fulham',\n",
       "       'Away_Leeds United', 'Away_Leicester City', 'Away_Liverpool',\n",
       "       'Away_Manchester City', 'Away_Manchester Utd', 'Away_Newcastle Utd',\n",
       "       'Away_Sheffield Utd', 'Away_Southampton', 'Away_Tottenham',\n",
       "       'Away_West Brom', 'Away_West Ham', 'Away_Wolves', 'homexg', 'awayxg'],\n",
       "      dtype='object')"
      ]
     },
     "execution_count": 58,
     "metadata": {},
     "output_type": "execute_result"
    }
   ],
   "source": [
    "pl_results_2021.columns"
   ]
  },
  {
   "cell_type": "code",
   "execution_count": 59,
   "metadata": {},
   "outputs": [],
   "source": [
    "pl_results_2021.loc[pl_results_2021['Home_Arsenal'] == 1, ['homexg']] = 1.41\n",
    "pl_results_2021.loc[pl_results_2021['Home_Aston Villa'] == 1, ['homexg']] = 1.40\n",
    "pl_results_2021.loc[pl_results_2021['Home_Brighton'] == 1, ['homexg']] = 1.36\n",
    "pl_results_2021.loc[pl_results_2021['Home_Burnley'] == 1, ['homexg']] = 1.04\n",
    "pl_results_2021.loc[pl_results_2021['Home_Chelsea'] == 1, ['homexg']] = 1.68\n",
    "pl_results_2021.loc[pl_results_2021['Home_Crystal Palace'] == 1, ['homexg']] = 0.86\n",
    "pl_results_2021.loc[pl_results_2021['Home_Everton'] == 1, ['homexg']] = 1.24\n",
    "pl_results_2021.loc[pl_results_2021['Home_Fulham'] == 1, ['homexg']] = 1.07\n",
    "pl_results_2021.loc[pl_results_2021['Home_Leeds United'] == 1, ['homexg']] = 1.51\n",
    "pl_results_2021.loc[pl_results_2021['Home_Leicester City'] == 1, ['homexg']] = 1.47\n",
    "pl_results_2021.loc[pl_results_2021['Home_Liverpool'] == 1, ['homexg']] = 1.91\n",
    "pl_results_2021.loc[pl_results_2021['Home_Manchester City'] == 1, ['homexg']] = 1.93\n",
    "pl_results_2021.loc[pl_results_2021['Home_Manchester Utd'] == 1, ['homexg']] = 1.58\n",
    "pl_results_2021.loc[pl_results_2021['Home_Newcastle Utd'] == 1, ['homexg']] = 1.08\n",
    "pl_results_2021.loc[pl_results_2021['Home_Sheffield Utd'] == 1, ['homexg']] = 0.83\n",
    "pl_results_2021.loc[pl_results_2021['Home_Southampton'] == 1, ['homexg']] = 1.11\n",
    "pl_results_2021.loc[pl_results_2021['Home_Tottenham'] == 1, ['homexg']] = 1.44\n",
    "pl_results_2021.loc[pl_results_2021['Home_West Brom'] == 1, ['homexg']] = 0.89\n",
    "pl_results_2021.loc[pl_results_2021['Home_West Ham'] == 1, ['homexg']] = 1.42\n",
    "pl_results_2021.loc[pl_results_2021['Home_Wolves'] == 1, ['homexg']] = 1.05\n",
    "#Assigning average xg for teams, xg from statsbomb via fbref"
   ]
  },
  {
   "cell_type": "code",
   "execution_count": 60,
   "metadata": {},
   "outputs": [],
   "source": [
    "pl_results_2021.loc[pl_results_2021['Away_Arsenal'] == 1, ['awayxg']] = 1.41\n",
    "pl_results_2021.loc[pl_results_2021['Away_Aston Villa'] == 1, ['awayxg']] = 1.40\n",
    "pl_results_2021.loc[pl_results_2021['Away_Brighton'] == 1, ['awayxg']] = 1.36\n",
    "pl_results_2021.loc[pl_results_2021['Away_Burnley'] == 1, ['awayxg']] = 1.04\n",
    "pl_results_2021.loc[pl_results_2021['Away_Chelsea'] == 1, ['awayxg']] = 1.68\n",
    "pl_results_2021.loc[pl_results_2021['Away_Crystal Palace'] == 1, ['awayxg']] = 0.86\n",
    "pl_results_2021.loc[pl_results_2021['Away_Everton'] == 1, ['awayxg']] = 1.24\n",
    "pl_results_2021.loc[pl_results_2021['Away_Fulham'] == 1, ['awayxg']] = 1.07\n",
    "pl_results_2021.loc[pl_results_2021['Away_Leeds United'] == 1, ['awayxg']] = 1.51\n",
    "pl_results_2021.loc[pl_results_2021['Away_Leicester City'] == 1, ['awayxg']] = 1.47\n",
    "pl_results_2021.loc[pl_results_2021['Away_Liverpool'] == 1, ['awayxg']] = 1.91\n",
    "pl_results_2021.loc[pl_results_2021['Away_Manchester City'] == 1, ['awayxg']] = 1.93\n",
    "pl_results_2021.loc[pl_results_2021['Away_Manchester Utd'] == 1, ['awayxg']] = 1.58\n",
    "pl_results_2021.loc[pl_results_2021['Away_Newcastle Utd'] == 1, ['awayxg']] = 1.08\n",
    "pl_results_2021.loc[pl_results_2021['Away_Sheffield Utd'] == 1, ['awayxg']] = 0.83\n",
    "pl_results_2021.loc[pl_results_2021['Away_Southampton'] == 1, ['awayxg']] = 1.11\n",
    "pl_results_2021.loc[pl_results_2021['Away_Tottenham'] == 1, ['awayxg']] = 1.44\n",
    "pl_results_2021.loc[pl_results_2021['Away_West Brom'] == 1, ['awayxg']] = 0.89\n",
    "pl_results_2021.loc[pl_results_2021['Away_West Ham'] == 1, ['awayxg']] = 1.42\n",
    "pl_results_2021.loc[pl_results_2021['Away_Wolves'] == 1, ['awayxg']] = 1.05\n",
    "#Assigning average xg for teams, xg from statsbomb via fbref"
   ]
  },
  {
   "cell_type": "code",
   "execution_count": 61,
   "metadata": {},
   "outputs": [
    {
     "data": {
      "text/plain": [
       "Index(['Wk', 'Day', 'Date', 'Time', 'home_xG', 'Score', 'away_xG',\n",
       "       'home_score', 'away_score', 'Venue', 'Referee', 'Match Report', 'Notes',\n",
       "       'over/under', 'Home_Arsenal', 'Home_Aston Villa', 'Home_Brighton',\n",
       "       'Home_Burnley', 'Home_Chelsea', 'Home_Crystal Palace', 'Home_Everton',\n",
       "       'Home_Fulham', 'Home_Leeds United', 'Home_Leicester City',\n",
       "       'Home_Liverpool', 'Home_Manchester City', 'Home_Manchester Utd',\n",
       "       'Home_Newcastle Utd', 'Home_Sheffield Utd', 'Home_Southampton',\n",
       "       'Home_Tottenham', 'Home_West Brom', 'Home_West Ham', 'Home_Wolves',\n",
       "       'Away_Arsenal', 'Away_Aston Villa', 'Away_Brighton', 'Away_Burnley',\n",
       "       'Away_Chelsea', 'Away_Crystal Palace', 'Away_Everton', 'Away_Fulham',\n",
       "       'Away_Leeds United', 'Away_Leicester City', 'Away_Liverpool',\n",
       "       'Away_Manchester City', 'Away_Manchester Utd', 'Away_Newcastle Utd',\n",
       "       'Away_Sheffield Utd', 'Away_Southampton', 'Away_Tottenham',\n",
       "       'Away_West Brom', 'Away_West Ham', 'Away_Wolves', 'homexg', 'awayxg'],\n",
       "      dtype='object')"
      ]
     },
     "execution_count": 61,
     "metadata": {},
     "output_type": "execute_result"
    }
   ],
   "source": [
    "pl_results_2021.columns"
   ]
  },
  {
   "cell_type": "code",
   "execution_count": 62,
   "metadata": {},
   "outputs": [],
   "source": [
    "features = ['Home_Arsenal', 'Home_Aston Villa', 'Home_Brighton',\n",
    "       'Home_Burnley', 'Home_Chelsea', 'Home_Crystal Palace', 'Home_Everton',\n",
    "       'Home_Fulham', 'Home_Leeds United', 'Home_Leicester City',\n",
    "       'Home_Liverpool', 'Home_Manchester City', 'Home_Manchester Utd',\n",
    "       'Home_Newcastle Utd', 'Home_Sheffield Utd', 'Home_Southampton',\n",
    "       'Home_Tottenham', 'Home_West Brom', 'Home_West Ham', 'Home_Wolves',\n",
    "       'Away_Arsenal', 'Away_Aston Villa', 'Away_Brighton', 'Away_Burnley',\n",
    "       'Away_Chelsea', 'Away_Crystal Palace', 'Away_Everton', 'Away_Fulham',\n",
    "       'Away_Leeds United', 'Away_Leicester City', 'Away_Liverpool',\n",
    "       'Away_Manchester City', 'Away_Manchester Utd', 'Away_Newcastle Utd',\n",
    "       'Away_Sheffield Utd', 'Away_Southampton', 'Away_Tottenham',\n",
    "       'Away_West Brom', 'Away_West Ham', 'Away_Wolves', 'homexg', 'awayxg']\n",
    "X = pl_results_2021[features]\n",
    "y = pl_results_2021['over/under']"
   ]
  },
  {
   "cell_type": "markdown",
   "metadata": {},
   "source": [
    "Could put all average stats for a team into a dictionary then use .loc to load all of the averages in for each team"
   ]
  },
  {
   "cell_type": "markdown",
   "metadata": {},
   "source": [
    "Need to figure out a way to merge these together so that teams have all of their stats"
   ]
  },
  {
   "cell_type": "code",
   "execution_count": 63,
   "metadata": {},
   "outputs": [],
   "source": [
    "X_train, X_test, y_train, y_test = train_test_split(X, y, test_size = 0.30, random_state = 42)"
   ]
  },
  {
   "cell_type": "code",
   "execution_count": 64,
   "metadata": {},
   "outputs": [],
   "source": [
    "logreg = LogisticRegression()"
   ]
  },
  {
   "cell_type": "code",
   "execution_count": 65,
   "metadata": {},
   "outputs": [
    {
     "data": {
      "text/plain": [
       "LogisticRegression()"
      ]
     },
     "execution_count": 65,
     "metadata": {},
     "output_type": "execute_result"
    }
   ],
   "source": [
    "logreg.fit(X_train, y_train)"
   ]
  },
  {
   "cell_type": "code",
   "execution_count": 66,
   "metadata": {},
   "outputs": [
    {
     "data": {
      "text/plain": [
       "0.6541353383458647"
      ]
     },
     "execution_count": 66,
     "metadata": {},
     "output_type": "execute_result"
    }
   ],
   "source": [
    "logreg.score(X_train, y_train)"
   ]
  },
  {
   "cell_type": "code",
   "execution_count": 67,
   "metadata": {},
   "outputs": [
    {
     "data": {
      "text/plain": [
       "0.49122807017543857"
      ]
     },
     "execution_count": 67,
     "metadata": {},
     "output_type": "execute_result"
    }
   ],
   "source": [
    "logreg.score(X_test, y_test)"
   ]
  },
  {
   "cell_type": "code",
   "execution_count": 68,
   "metadata": {},
   "outputs": [],
   "source": [
    "preds = logreg.predict(X_test[features])"
   ]
  },
  {
   "cell_type": "code",
   "execution_count": 69,
   "metadata": {},
   "outputs": [
    {
     "data": {
      "text/plain": [
       "0.49122807017543857"
      ]
     },
     "execution_count": 69,
     "metadata": {},
     "output_type": "execute_result"
    }
   ],
   "source": [
    "accuracy_score(y_test, preds)"
   ]
  },
  {
   "cell_type": "code",
   "execution_count": 70,
   "metadata": {},
   "outputs": [
    {
     "data": {
      "text/plain": [
       "array([0, 0, 0, 0, 1, 1, 1, 0, 1, 0, 0, 0, 0, 1, 1, 1, 0, 1, 0, 0, 1, 0,\n",
       "       1, 0, 0, 0, 0, 1, 0, 0, 1, 0, 0, 0, 1, 1, 1, 1, 1, 0, 0, 0, 0, 0,\n",
       "       0, 1, 0, 0, 0, 1, 1, 0, 0, 1, 0, 0, 0, 1, 1, 1, 0, 0, 1, 1, 0, 0,\n",
       "       0, 0, 0, 0, 1, 0, 0, 0, 0, 0, 1, 1, 1, 0, 0, 0, 1, 0, 1, 0, 0, 0,\n",
       "       1, 1, 1, 0, 0, 1, 0, 0, 1, 0, 1, 1, 0, 1, 0, 0, 0, 1, 0, 0, 1, 1,\n",
       "       1, 1, 0, 0])"
      ]
     },
     "execution_count": 70,
     "metadata": {},
     "output_type": "execute_result"
    }
   ],
   "source": [
    "preds"
   ]
  },
  {
   "cell_type": "code",
   "execution_count": 71,
   "metadata": {},
   "outputs": [
    {
     "data": {
      "text/plain": [
       "266    0\n",
       "261    0\n",
       "265    0\n",
       "39     1\n",
       "33     0\n",
       "      ..\n",
       "137    1\n",
       "332    1\n",
       "351    1\n",
       "310    1\n",
       "167    0\n",
       "Name: over/under, Length: 114, dtype: int32"
      ]
     },
     "execution_count": 71,
     "metadata": {},
     "output_type": "execute_result"
    }
   ],
   "source": [
    "y_test"
   ]
  },
  {
   "cell_type": "markdown",
   "metadata": {},
   "source": [
    "ready to push"
   ]
  },
  {
   "cell_type": "markdown",
   "metadata": {},
   "source": [
    "next steps"
   ]
  },
  {
   "cell_type": "code",
   "execution_count": null,
   "metadata": {},
   "outputs": [],
   "source": []
  }
 ],
 "metadata": {
  "kernelspec": {
   "display_name": "Python 3",
   "language": "python",
   "name": "python3"
  },
  "language_info": {
   "codemirror_mode": {
    "name": "ipython",
    "version": 3
   },
   "file_extension": ".py",
   "mimetype": "text/x-python",
   "name": "python",
   "nbconvert_exporter": "python",
   "pygments_lexer": "ipython3",
   "version": "3.8.3"
  }
 },
 "nbformat": 4,
 "nbformat_minor": 4
}
