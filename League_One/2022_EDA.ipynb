{
 "cells": [
  {
   "cell_type": "code",
   "execution_count": 35,
   "metadata": {},
   "outputs": [],
   "source": [
    "import pandas as pd\n",
    "import numpy as np\n",
    "import seaborn as sns\n",
    "import matplotlib.pyplot as plt\n",
    "from sklearn.linear_model import LinearRegression, LogisticRegression, Ridge, RidgeCV, Lasso, \\\n",
    "LassoCV, ElasticNet, ElasticNetCV\n",
    "from sklearn.model_selection import train_test_split, cross_val_score, GridSearchCV\n",
    "from sklearn.metrics import mean_squared_error, r2_score, accuracy_score\n",
    "from sklearn.preprocessing import StandardScaler, PolynomialFeatures\n",
    "from sklearn.neighbors import KNeighborsClassifier\n",
    "from sklearn.svm import SVR\n",
    "from sklearn.decomposition import PCA"
   ]
  },
  {
   "cell_type": "markdown",
   "metadata": {},
   "source": [
    "# 2022"
   ]
  },
  {
   "cell_type": "code",
   "execution_count": 36,
   "metadata": {},
   "outputs": [],
   "source": [
    "team_stats = pd.read_csv('../footy_data/league_one_teams_2022.csv')\n",
    "games = pd.read_csv('../footy_data/league_one_games_2022.csv')"
   ]
  },
  {
   "cell_type": "code",
   "execution_count": 37,
   "metadata": {},
   "outputs": [],
   "source": [
    "games = games[0:24]\n",
    "#Only include completed games"
   ]
  },
  {
   "cell_type": "markdown",
   "metadata": {},
   "source": [
    "Seeing how many games had goals and xg of over 2.5"
   ]
  },
  {
   "cell_type": "code",
   "execution_count": 38,
   "metadata": {},
   "outputs": [],
   "source": [
    "games['over/under'] = np.where(games['home_team_goal_count'] + games['away_team_goal_count'] > 2.5, 1, 0)\n",
    "# Adding column 0 represents under 2.5, 1 represents over 2.5\n",
    "games['xg_over/under'] = np.where(games['team_a_xg'] + games['team_b_xg'] > 2.99, 1, 0)\n",
    "# Adding column 0 represents under 2.5, 1 represents over 2.5\n",
    "games['over/under_1.5'] = np.where(games['home_team_goal_count'] + games['away_team_goal_count'] > 1.5, 1, 0)\n",
    "# Adding column 0 represents under 1.5, 1 represents over 1.5"
   ]
  },
  {
   "cell_type": "code",
   "execution_count": 39,
   "metadata": {},
   "outputs": [
    {
     "data": {
      "text/plain": [
       "1    12\n",
       "0    12\n",
       "Name: over/under, dtype: int64"
      ]
     },
     "execution_count": 39,
     "metadata": {},
     "output_type": "execute_result"
    }
   ],
   "source": [
    "games['over/under'].value_counts()"
   ]
  },
  {
   "cell_type": "code",
   "execution_count": 41,
   "metadata": {},
   "outputs": [
    {
     "data": {
      "text/plain": [
       "0    18\n",
       "1     6\n",
       "Name: xg_over/under, dtype: int64"
      ]
     },
     "execution_count": 41,
     "metadata": {},
     "output_type": "execute_result"
    }
   ],
   "source": [
    "games['xg_over/under'].value_counts()"
   ]
  },
  {
   "cell_type": "code",
   "execution_count": 42,
   "metadata": {},
   "outputs": [
    {
     "data": {
      "text/plain": [
       "0.39855072463768115"
      ]
     },
     "execution_count": 42,
     "metadata": {},
     "output_type": "execute_result"
    }
   ],
   "source": [
    "220/552"
   ]
  },
  {
   "cell_type": "code",
   "execution_count": 51,
   "metadata": {},
   "outputs": [],
   "source": [
    "goals_v_xg = games[['home_team_name', 'away_team_name', 'team_a_xg', 'team_b_xg', 'home_team_goal_count', 'away_team_goal_count']]"
   ]
  },
  {
   "cell_type": "code",
   "execution_count": 52,
   "metadata": {},
   "outputs": [
    {
     "data": {
      "text/html": [
       "<div>\n",
       "<style scoped>\n",
       "    .dataframe tbody tr th:only-of-type {\n",
       "        vertical-align: middle;\n",
       "    }\n",
       "\n",
       "    .dataframe tbody tr th {\n",
       "        vertical-align: top;\n",
       "    }\n",
       "\n",
       "    .dataframe thead th {\n",
       "        text-align: right;\n",
       "    }\n",
       "</style>\n",
       "<table border=\"1\" class=\"dataframe\">\n",
       "  <thead>\n",
       "    <tr style=\"text-align: right;\">\n",
       "      <th></th>\n",
       "      <th>home_team_name</th>\n",
       "      <th>away_team_name</th>\n",
       "      <th>team_a_xg</th>\n",
       "      <th>team_b_xg</th>\n",
       "      <th>home_team_goal_count</th>\n",
       "      <th>away_team_goal_count</th>\n",
       "    </tr>\n",
       "  </thead>\n",
       "  <tbody>\n",
       "    <tr>\n",
       "      <th>0</th>\n",
       "      <td>Bolton Wanderers</td>\n",
       "      <td>Milton Keynes Dons</td>\n",
       "      <td>1.72</td>\n",
       "      <td>1.36</td>\n",
       "      <td>3</td>\n",
       "      <td>3</td>\n",
       "    </tr>\n",
       "    <tr>\n",
       "      <th>1</th>\n",
       "      <td>Cambridge United</td>\n",
       "      <td>Oxford United</td>\n",
       "      <td>1.16</td>\n",
       "      <td>1.36</td>\n",
       "      <td>1</td>\n",
       "      <td>1</td>\n",
       "    </tr>\n",
       "    <tr>\n",
       "      <th>2</th>\n",
       "      <td>Crewe Alexandra</td>\n",
       "      <td>Cheltenham Town</td>\n",
       "      <td>0.82</td>\n",
       "      <td>1.64</td>\n",
       "      <td>1</td>\n",
       "      <td>1</td>\n",
       "    </tr>\n",
       "    <tr>\n",
       "      <th>3</th>\n",
       "      <td>Doncaster Rovers</td>\n",
       "      <td>AFC Wimbledon</td>\n",
       "      <td>1.02</td>\n",
       "      <td>1.04</td>\n",
       "      <td>1</td>\n",
       "      <td>2</td>\n",
       "    </tr>\n",
       "    <tr>\n",
       "      <th>4</th>\n",
       "      <td>Fleetwood Town</td>\n",
       "      <td>Portsmouth</td>\n",
       "      <td>1.60</td>\n",
       "      <td>0.94</td>\n",
       "      <td>0</td>\n",
       "      <td>1</td>\n",
       "    </tr>\n",
       "    <tr>\n",
       "      <th>5</th>\n",
       "      <td>Gillingham</td>\n",
       "      <td>Lincoln City</td>\n",
       "      <td>1.90</td>\n",
       "      <td>1.07</td>\n",
       "      <td>1</td>\n",
       "      <td>1</td>\n",
       "    </tr>\n",
       "    <tr>\n",
       "      <th>6</th>\n",
       "      <td>Ipswich Town</td>\n",
       "      <td>Morecambe</td>\n",
       "      <td>1.41</td>\n",
       "      <td>0.95</td>\n",
       "      <td>2</td>\n",
       "      <td>2</td>\n",
       "    </tr>\n",
       "    <tr>\n",
       "      <th>7</th>\n",
       "      <td>Rotherham United</td>\n",
       "      <td>Plymouth Argyle</td>\n",
       "      <td>2.05</td>\n",
       "      <td>0.95</td>\n",
       "      <td>2</td>\n",
       "      <td>0</td>\n",
       "    </tr>\n",
       "    <tr>\n",
       "      <th>8</th>\n",
       "      <td>Shrewsbury Town</td>\n",
       "      <td>Burton Albion</td>\n",
       "      <td>1.50</td>\n",
       "      <td>1.65</td>\n",
       "      <td>0</td>\n",
       "      <td>1</td>\n",
       "    </tr>\n",
       "    <tr>\n",
       "      <th>9</th>\n",
       "      <td>Wycombe Wanderers</td>\n",
       "      <td>Accrington Stanley</td>\n",
       "      <td>1.70</td>\n",
       "      <td>1.11</td>\n",
       "      <td>2</td>\n",
       "      <td>1</td>\n",
       "    </tr>\n",
       "    <tr>\n",
       "      <th>10</th>\n",
       "      <td>Sunderland</td>\n",
       "      <td>Wigan Athletic</td>\n",
       "      <td>1.69</td>\n",
       "      <td>1.03</td>\n",
       "      <td>2</td>\n",
       "      <td>1</td>\n",
       "    </tr>\n",
       "    <tr>\n",
       "      <th>11</th>\n",
       "      <td>Charlton Athletic</td>\n",
       "      <td>Sheffield Wednesday</td>\n",
       "      <td>1.02</td>\n",
       "      <td>0.88</td>\n",
       "      <td>0</td>\n",
       "      <td>0</td>\n",
       "    </tr>\n",
       "    <tr>\n",
       "      <th>12</th>\n",
       "      <td>AFC Wimbledon</td>\n",
       "      <td>Bolton Wanderers</td>\n",
       "      <td>1.81</td>\n",
       "      <td>1.18</td>\n",
       "      <td>3</td>\n",
       "      <td>3</td>\n",
       "    </tr>\n",
       "    <tr>\n",
       "      <th>13</th>\n",
       "      <td>Accrington Stanley</td>\n",
       "      <td>Cambridge United</td>\n",
       "      <td>1.78</td>\n",
       "      <td>1.33</td>\n",
       "      <td>2</td>\n",
       "      <td>1</td>\n",
       "    </tr>\n",
       "    <tr>\n",
       "      <th>14</th>\n",
       "      <td>Burton Albion</td>\n",
       "      <td>Ipswich Town</td>\n",
       "      <td>1.30</td>\n",
       "      <td>1.26</td>\n",
       "      <td>2</td>\n",
       "      <td>1</td>\n",
       "    </tr>\n",
       "    <tr>\n",
       "      <th>15</th>\n",
       "      <td>Cheltenham Town</td>\n",
       "      <td>Wycombe Wanderers</td>\n",
       "      <td>1.50</td>\n",
       "      <td>1.77</td>\n",
       "      <td>1</td>\n",
       "      <td>3</td>\n",
       "    </tr>\n",
       "    <tr>\n",
       "      <th>16</th>\n",
       "      <td>Lincoln City</td>\n",
       "      <td>Fleetwood Town</td>\n",
       "      <td>1.02</td>\n",
       "      <td>1.55</td>\n",
       "      <td>2</td>\n",
       "      <td>1</td>\n",
       "    </tr>\n",
       "    <tr>\n",
       "      <th>17</th>\n",
       "      <td>Milton Keynes Dons</td>\n",
       "      <td>Sunderland</td>\n",
       "      <td>1.71</td>\n",
       "      <td>1.13</td>\n",
       "      <td>1</td>\n",
       "      <td>2</td>\n",
       "    </tr>\n",
       "    <tr>\n",
       "      <th>18</th>\n",
       "      <td>Morecambe</td>\n",
       "      <td>Shrewsbury Town</td>\n",
       "      <td>1.06</td>\n",
       "      <td>0.94</td>\n",
       "      <td>2</td>\n",
       "      <td>0</td>\n",
       "    </tr>\n",
       "    <tr>\n",
       "      <th>19</th>\n",
       "      <td>Oxford United</td>\n",
       "      <td>Charlton Athletic</td>\n",
       "      <td>1.29</td>\n",
       "      <td>1.27</td>\n",
       "      <td>2</td>\n",
       "      <td>1</td>\n",
       "    </tr>\n",
       "    <tr>\n",
       "      <th>20</th>\n",
       "      <td>Plymouth Argyle</td>\n",
       "      <td>Gillingham</td>\n",
       "      <td>1.67</td>\n",
       "      <td>0.73</td>\n",
       "      <td>1</td>\n",
       "      <td>0</td>\n",
       "    </tr>\n",
       "    <tr>\n",
       "      <th>21</th>\n",
       "      <td>Portsmouth</td>\n",
       "      <td>Crewe Alexandra</td>\n",
       "      <td>1.96</td>\n",
       "      <td>0.55</td>\n",
       "      <td>2</td>\n",
       "      <td>0</td>\n",
       "    </tr>\n",
       "    <tr>\n",
       "      <th>22</th>\n",
       "      <td>Sheffield Wednesday</td>\n",
       "      <td>Doncaster Rovers</td>\n",
       "      <td>1.53</td>\n",
       "      <td>1.47</td>\n",
       "      <td>2</td>\n",
       "      <td>0</td>\n",
       "    </tr>\n",
       "    <tr>\n",
       "      <th>23</th>\n",
       "      <td>Wigan Athletic</td>\n",
       "      <td>Rotherham United</td>\n",
       "      <td>0.00</td>\n",
       "      <td>0.00</td>\n",
       "      <td>1</td>\n",
       "      <td>0</td>\n",
       "    </tr>\n",
       "  </tbody>\n",
       "</table>\n",
       "</div>"
      ],
      "text/plain": [
       "         home_team_name       away_team_name  team_a_xg  team_b_xg  \\\n",
       "0      Bolton Wanderers   Milton Keynes Dons       1.72       1.36   \n",
       "1      Cambridge United        Oxford United       1.16       1.36   \n",
       "2       Crewe Alexandra      Cheltenham Town       0.82       1.64   \n",
       "3      Doncaster Rovers        AFC Wimbledon       1.02       1.04   \n",
       "4        Fleetwood Town           Portsmouth       1.60       0.94   \n",
       "5            Gillingham         Lincoln City       1.90       1.07   \n",
       "6          Ipswich Town            Morecambe       1.41       0.95   \n",
       "7      Rotherham United      Plymouth Argyle       2.05       0.95   \n",
       "8       Shrewsbury Town        Burton Albion       1.50       1.65   \n",
       "9     Wycombe Wanderers   Accrington Stanley       1.70       1.11   \n",
       "10           Sunderland       Wigan Athletic       1.69       1.03   \n",
       "11    Charlton Athletic  Sheffield Wednesday       1.02       0.88   \n",
       "12        AFC Wimbledon     Bolton Wanderers       1.81       1.18   \n",
       "13   Accrington Stanley     Cambridge United       1.78       1.33   \n",
       "14        Burton Albion         Ipswich Town       1.30       1.26   \n",
       "15      Cheltenham Town    Wycombe Wanderers       1.50       1.77   \n",
       "16         Lincoln City       Fleetwood Town       1.02       1.55   \n",
       "17   Milton Keynes Dons           Sunderland       1.71       1.13   \n",
       "18            Morecambe      Shrewsbury Town       1.06       0.94   \n",
       "19        Oxford United    Charlton Athletic       1.29       1.27   \n",
       "20      Plymouth Argyle           Gillingham       1.67       0.73   \n",
       "21           Portsmouth      Crewe Alexandra       1.96       0.55   \n",
       "22  Sheffield Wednesday     Doncaster Rovers       1.53       1.47   \n",
       "23       Wigan Athletic     Rotherham United       0.00       0.00   \n",
       "\n",
       "    home_team_goal_count  away_team_goal_count  \n",
       "0                      3                     3  \n",
       "1                      1                     1  \n",
       "2                      1                     1  \n",
       "3                      1                     2  \n",
       "4                      0                     1  \n",
       "5                      1                     1  \n",
       "6                      2                     2  \n",
       "7                      2                     0  \n",
       "8                      0                     1  \n",
       "9                      2                     1  \n",
       "10                     2                     1  \n",
       "11                     0                     0  \n",
       "12                     3                     3  \n",
       "13                     2                     1  \n",
       "14                     2                     1  \n",
       "15                     1                     3  \n",
       "16                     2                     1  \n",
       "17                     1                     2  \n",
       "18                     2                     0  \n",
       "19                     2                     1  \n",
       "20                     1                     0  \n",
       "21                     2                     0  \n",
       "22                     2                     0  \n",
       "23                     1                     0  "
      ]
     },
     "execution_count": 52,
     "metadata": {},
     "output_type": "execute_result"
    }
   ],
   "source": [
    "goals_v_xg"
   ]
  },
  {
   "cell_type": "code",
   "execution_count": 45,
   "metadata": {},
   "outputs": [],
   "source": [
    "first_matchweek = games[0:12]"
   ]
  },
  {
   "cell_type": "code",
   "execution_count": 46,
   "metadata": {},
   "outputs": [
    {
     "data": {
      "text/plain": [
       "0    7\n",
       "1    5\n",
       "Name: over/under, dtype: int64"
      ]
     },
     "execution_count": 46,
     "metadata": {},
     "output_type": "execute_result"
    }
   ],
   "source": [
    "first_matchweek['over/under'].value_counts()"
   ]
  },
  {
   "cell_type": "code",
   "execution_count": 47,
   "metadata": {},
   "outputs": [
    {
     "data": {
      "text/plain": [
       "1    9\n",
       "0    3\n",
       "Name: over/under_1.5, dtype: int64"
      ]
     },
     "execution_count": 47,
     "metadata": {},
     "output_type": "execute_result"
    }
   ],
   "source": [
    "first_matchweek['over/under_1.5'].value_counts()"
   ]
  },
  {
   "cell_type": "code",
   "execution_count": null,
   "metadata": {},
   "outputs": [],
   "source": []
  }
 ],
 "metadata": {
  "kernelspec": {
   "display_name": "Python 3",
   "language": "python",
   "name": "python3"
  },
  "language_info": {
   "codemirror_mode": {
    "name": "ipython",
    "version": 3
   },
   "file_extension": ".py",
   "mimetype": "text/x-python",
   "name": "python",
   "nbconvert_exporter": "python",
   "pygments_lexer": "ipython3",
   "version": "3.8.3"
  }
 },
 "nbformat": 4,
 "nbformat_minor": 4
}
