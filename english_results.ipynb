{
 "cells": [
  {
   "cell_type": "code",
   "execution_count": 69,
   "metadata": {},
   "outputs": [],
   "source": [
    "import pandas as pd\n",
    "import numpy as np\n",
    "import seaborn as sns\n",
    "import matplotlib.pyplot as plt"
   ]
  },
  {
   "cell_type": "code",
   "execution_count": 70,
   "metadata": {},
   "outputs": [],
   "source": [
    "champ_results_2021 = pd.read_csv('./data/Champ_results_2021.csv')\n",
    "champ_results_2020 = pd.read_csv('./data/Champ_results_2020.csv')\n",
    "champ_results_2019 = pd.read_csv('./data/Champ_results_2019.csv')\n",
    "champ_results_2018 = pd.read_csv('./data/Champ_results_2018.csv')\n",
    "champ_results_2017 = pd.read_csv('./data/Champ_results_2017.csv')\n",
    "\n",
    "pl_results_2021 = pd.read_csv('./data/pl_results2021.csv')\n",
    "pl_results_2020 = pd.read_csv('./data/pl_results2020.csv')\n",
    "pl_results_2019 = pd.read_csv('./data/pl_results2019.csv')\n",
    "pl_results_2018 = pd.read_csv('./data/pl_results2018.csv')\n",
    "pl_results_2017 = pd.read_csv('./data/pl_results2017.csv')"
   ]
  },
  {
   "cell_type": "markdown",
   "metadata": {},
   "source": [
    "All of the data used came from Sports Reference, or Football Reference"
   ]
  },
  {
   "cell_type": "code",
   "execution_count": 71,
   "metadata": {},
   "outputs": [],
   "source": [
    "champ_results_2021 = champ_results_2021.drop(['Score'],axis=1)"
   ]
  },
  {
   "cell_type": "code",
   "execution_count": 72,
   "metadata": {},
   "outputs": [],
   "source": [
    "champ_results_2020 = champ_results_2020.drop(['Score'],axis=1)"
   ]
  },
  {
   "cell_type": "markdown",
   "metadata": {},
   "source": [
    "I'd like to do a bit of analysis on if there still existed a home field advantage, even with no attendance"
   ]
  },
  {
   "cell_type": "markdown",
   "metadata": {},
   "source": [
    "# Home vs Away EFL Championship Results"
   ]
  },
  {
   "cell_type": "code",
   "execution_count": 73,
   "metadata": {},
   "outputs": [
    {
     "name": "stdout",
     "output_type": "stream",
     "text": [
      "There were 139 draws in the 20-21 Championship season, or 25.181159420289855 percent of games\n",
      "The away team won 186 games in the 20-21 Championship season, or 33.69565217391305 percent of games\n",
      "The home team won 227 games in the 20-21 Championship season, or 41.1231884057971 percent of games\n"
     ]
    }
   ],
   "source": [
    "draw = champ_results_2021[champ_results_2021.home_score == champ_results_2021.away_score]\n",
    "away_win = champ_results_2021[champ_results_2021.home_score < champ_results_2021.away_score]\n",
    "home_win = champ_results_2021[champ_results_2021.home_score > champ_results_2021.away_score]\n",
    "print(f'There were {len(draw)} draws in the 20-21 Championship season, or {(len(draw)/(len(champ_results_2021))*100)} percent of games')\n",
    "print(f'The away team won {len(away_win)} games in the 20-21 Championship season, or {(len(away_win)/(len(champ_results_2021)))*100} percent of games')\n",
    "print(f'The home team won {len(home_win)} games in the 20-21 Championship season, or {(len(home_win)/(len(champ_results_2021)))*100} percent of games')"
   ]
  },
  {
   "cell_type": "code",
   "execution_count": 74,
   "metadata": {},
   "outputs": [
    {
     "name": "stdout",
     "output_type": "stream",
     "text": [
      "There were 149 draws in the 19-20 Championship season, or 26.992753623188403 percent of games\n",
      "The away team won 173 games in the 19-20 Championship season, or 31.34057971014493 percent of games\n",
      "The home team won 230 games in the 19-20 Championship season, or 41.66666666666667 percent of games\n"
     ]
    }
   ],
   "source": [
    "draw = champ_results_2020[champ_results_2020.home_score == champ_results_2020.away_score]\n",
    "away_win = champ_results_2020[champ_results_2020.home_score < champ_results_2020.away_score]\n",
    "home_win = champ_results_2020[champ_results_2020.home_score > champ_results_2020.away_score]\n",
    "print(f'There were {len(draw)} draws in the 19-20 Championship season, or {(len(draw)/(len(champ_results_2020))*100)} percent of games')\n",
    "print(f'The away team won {len(away_win)} games in the 19-20 Championship season, or {(len(away_win)/(len(champ_results_2020)))*100} percent of games')\n",
    "print(f'The home team won {len(home_win)} games in the 19-20 Championship season, or {(len(home_win)/(len(champ_results_2020)))*100} percent of games')"
   ]
  },
  {
   "cell_type": "code",
   "execution_count": 75,
   "metadata": {},
   "outputs": [
    {
     "name": "stdout",
     "output_type": "stream",
     "text": [
      "There were 162 draws in the 18-19 Championship season, or 29.347826086956523 percent of games\n",
      "The away team won 150 games in the 18-19 Championship season, or 27.173913043478258 percent of games\n",
      "The home team won 240 games in the 18-19 Championship season, or 43.47826086956522 percent of games\n"
     ]
    }
   ],
   "source": [
    "draw = champ_results_2019[champ_results_2019.home_score == champ_results_2019.away_score]\n",
    "away_win = champ_results_2019[champ_results_2019.home_score < champ_results_2019.away_score]\n",
    "home_win = champ_results_2019[champ_results_2019.home_score > champ_results_2019.away_score]\n",
    "print(f'There were {len(draw)} draws in the 18-19 Championship season, or {(len(draw)/(len(champ_results_2019))*100)} percent of games')\n",
    "print(f'The away team won {len(away_win)} games in the 18-19 Championship season, or {(len(away_win)/(len(champ_results_2019)))*100} percent of games')\n",
    "print(f'The home team won {len(home_win)} games in the 18-19 Championship season, or {(len(home_win)/(len(champ_results_2019)))*100} percent of games')"
   ]
  },
  {
   "cell_type": "code",
   "execution_count": 76,
   "metadata": {},
   "outputs": [
    {
     "name": "stdout",
     "output_type": "stream",
     "text": [
      "There were 148 draws in the 17-18 Championship season, or 26.811594202898554 percent of games\n",
      "The away team won 166 games in the 17-18 Championship season, or 30.07246376811594 percent of games\n",
      "The home team won 238 games in the 17-18 Championship season, or 43.11594202898551 percent of games\n"
     ]
    }
   ],
   "source": [
    "draw = champ_results_2018[champ_results_2018.home_score == champ_results_2018.away_score]\n",
    "away_win = champ_results_2018[champ_results_2018.home_score < champ_results_2018.away_score]\n",
    "home_win = champ_results_2018[champ_results_2018.home_score > champ_results_2018.away_score]\n",
    "print(f'There were {len(draw)} draws in the 17-18 Championship season, or {(len(draw)/(len(champ_results_2018))*100)} percent of games')\n",
    "print(f'The away team won {len(away_win)} games in the 17-18 Championship season, or {(len(away_win)/(len(champ_results_2018)))*100} percent of games')\n",
    "print(f'The home team won {len(home_win)} games in the 17-18 Championship season, or {(len(home_win)/(len(champ_results_2018)))*100} percent of games')"
   ]
  },
  {
   "cell_type": "code",
   "execution_count": 77,
   "metadata": {},
   "outputs": [
    {
     "name": "stdout",
     "output_type": "stream",
     "text": [
      "There were 130 draws in the 16-17 Championship season, or 23.55072463768116 percent of games\n",
      "The away team won 160 games in the 16-17 Championship season, or 28.985507246376812 percent of games\n",
      "The home team won 262 games in the 16-17 Championship season, or 47.46376811594203 percent of games\n"
     ]
    }
   ],
   "source": [
    "draw = champ_results_2017[champ_results_2017.home_score == champ_results_2017.away_score]\n",
    "away_win = champ_results_2017[champ_results_2017.home_score < champ_results_2017.away_score]\n",
    "home_win = champ_results_2017[champ_results_2017.home_score > champ_results_2017.away_score]\n",
    "print(f'There were {len(draw)} draws in the 16-17 Championship season, or {(len(draw)/(len(champ_results_2017))*100)} percent of games')\n",
    "print(f'The away team won {len(away_win)} games in the 16-17 Championship season, or {(len(away_win)/(len(champ_results_2017)))*100} percent of games')\n",
    "print(f'The home team won {len(home_win)} games in the 16-17 Championship season, or {(len(home_win)/(len(champ_results_2017)))*100} percent of games')"
   ]
  },
  {
   "cell_type": "markdown",
   "metadata": {},
   "source": [
    "# English Premier League results"
   ]
  },
  {
   "cell_type": "code",
   "execution_count": 78,
   "metadata": {},
   "outputs": [
    {
     "name": "stdout",
     "output_type": "stream",
     "text": [
      "There were 83 draws in the 20-21 PL season, or 21.842105263157897 percent of games\n",
      "The away team won 150 games in the 20-21 PL season, or 39.473684210526315 percent of games\n",
      "The home team won 137 games in the 20-21 PL season, or 36.05263157894737 percent of games\n"
     ]
    }
   ],
   "source": [
    "draw = pl_results_2021[pl_results_2021.home_score == pl_results_2021.away_score]\n",
    "away_win = pl_results_2021[pl_results_2021.home_score < pl_results_2021.away_score]\n",
    "home_win = pl_results_2021[pl_results_2021.home_score > pl_results_2021.away_score]\n",
    "print(f'There were {len(draw)} draws in the 20-21 PL season, or {(len(draw)/(len(pl_results_2021))*100)} percent of games')\n",
    "print(f'The away team won {len(away_win)} games in the 20-21 PL season, or {(len(away_win)/(len(pl_results_2021)))*100} percent of games')\n",
    "print(f'The home team won {len(home_win)} games in the 20-21 PL season, or {(len(home_win)/(len(pl_results_2021)))*100} percent of games')\n",
    "\n",
    "#This needs to be updated to include final week"
   ]
  },
  {
   "cell_type": "code",
   "execution_count": 79,
   "metadata": {},
   "outputs": [
    {
     "name": "stdout",
     "output_type": "stream",
     "text": [
      "There were 92 draws in the 19-20 PL season, or 24.210526315789473 percent of games\n",
      "The away team won 116 games in the 19-20 PL season, or 30.526315789473685 percent of games\n",
      "The home team won 172 games in the 19-20 PL season, or 45.26315789473684 percent of games\n"
     ]
    }
   ],
   "source": [
    "draw = pl_results_2020[pl_results_2020.home_score == pl_results_2020.away_score]\n",
    "away_win = pl_results_2020[pl_results_2020.home_score < pl_results_2020.away_score]\n",
    "home_win = pl_results_2020[pl_results_2020.home_score > pl_results_2020.away_score]\n",
    "print(f'There were {len(draw)} draws in the 19-20 PL season, or {(len(draw)/(len(pl_results_2020))*100)} percent of games')\n",
    "print(f'The away team won {len(away_win)} games in the 19-20 PL season, or {(len(away_win)/(len(pl_results_2020)))*100} percent of games')\n",
    "print(f'The home team won {len(home_win)} games in the 19-20 PL season, or {(len(home_win)/(len(pl_results_2020)))*100} percent of games')"
   ]
  },
  {
   "cell_type": "code",
   "execution_count": 80,
   "metadata": {},
   "outputs": [
    {
     "name": "stdout",
     "output_type": "stream",
     "text": [
      "There were 71 draws in the 18-19 PL season, or 18.684210526315788 percent of games\n",
      "The away team won 128 games in the 18-19 PL season, or 33.68421052631579 percent of games\n",
      "The home team won 181 games in the 18-19 PL season, or 47.63157894736842 percent of games\n"
     ]
    }
   ],
   "source": [
    "draw = pl_results_2019[pl_results_2019.home_score == pl_results_2019.away_score]\n",
    "away_win = pl_results_2019[pl_results_2019.home_score < pl_results_2019.away_score]\n",
    "home_win = pl_results_2019[pl_results_2019.home_score > pl_results_2019.away_score]\n",
    "print(f'There were {len(draw)} draws in the 18-19 PL season, or {(len(draw)/(len(pl_results_2019))*100)} percent of games')\n",
    "print(f'The away team won {len(away_win)} games in the 18-19 PL season, or {(len(away_win)/(len(pl_results_2019)))*100} percent of games')\n",
    "print(f'The home team won {len(home_win)} games in the 18-19 PL season, or {(len(home_win)/(len(pl_results_2019)))*100} percent of games')"
   ]
  },
  {
   "cell_type": "code",
   "execution_count": 81,
   "metadata": {},
   "outputs": [
    {
     "name": "stdout",
     "output_type": "stream",
     "text": [
      "There were 99 draws in the 17-18 PL season, or 26.052631578947366 percent of games\n",
      "The away team won 108 games in the 17-18 PL season, or 28.421052631578945 percent of games\n",
      "The home team won 173 games in the 17-18 PL season, or 45.526315789473685 percent of games\n"
     ]
    }
   ],
   "source": [
    "draw = pl_results_2018[pl_results_2018.home_score == pl_results_2018.away_score]\n",
    "away_win = pl_results_2018[pl_results_2018.home_score < pl_results_2018.away_score]\n",
    "home_win = pl_results_2018[pl_results_2018.home_score > pl_results_2018.away_score]\n",
    "print(f'There were {len(draw)} draws in the 17-18 PL season, or {(len(draw)/(len(pl_results_2018))*100)} percent of games')\n",
    "print(f'The away team won {len(away_win)} games in the 17-18 PL season, or {(len(away_win)/(len(pl_results_2018)))*100} percent of games')\n",
    "print(f'The home team won {len(home_win)} games in the 17-18 PL season, or {(len(home_win)/(len(pl_results_2018)))*100} percent of games')"
   ]
  },
  {
   "cell_type": "code",
   "execution_count": 82,
   "metadata": {},
   "outputs": [
    {
     "name": "stdout",
     "output_type": "stream",
     "text": [
      "There were 84 draws in the 16-17 PL season, or 22.105263157894736 percent of games\n",
      "The away team won 109 games in the 16-17 PL season, or 28.68421052631579 percent of games\n",
      "The home team won 187 games in the 16-17 PL season, or 49.21052631578947 percent of games\n"
     ]
    }
   ],
   "source": [
    "draw = pl_results_2017[pl_results_2017.home_score == pl_results_2017.away_score]\n",
    "away_win = pl_results_2017[pl_results_2017.home_score < pl_results_2017.away_score]\n",
    "home_win = pl_results_2017[pl_results_2017.home_score > pl_results_2017.away_score]\n",
    "print(f'There were {len(draw)} draws in the 16-17 PL season, or {(len(draw)/(len(pl_results_2017))*100)} percent of games')\n",
    "print(f'The away team won {len(away_win)} games in the 16-17 PL season, or {(len(away_win)/(len(pl_results_2017)))*100} percent of games')\n",
    "print(f'The home team won {len(home_win)} games in the 16-17 PL season, or {(len(home_win)/(len(pl_results_2017)))*100} percent of games')"
   ]
  },
  {
   "cell_type": "code",
   "execution_count": 91,
   "metadata": {},
   "outputs": [
    {
     "data": {
      "text/plain": [
       "Index(['Wk', 'Day', 'Date', 'Time', 'Home', 'Score', 'Away', 'home_score',\n",
       "       'away_score', 'Attendance', 'Venue', 'Referee', 'Match Report',\n",
       "       'Notes'],\n",
       "      dtype='object')"
      ]
     },
     "execution_count": 91,
     "metadata": {},
     "output_type": "execute_result"
    }
   ],
   "source": [
    "pl_results_2017.columns"
   ]
  },
  {
   "cell_type": "markdown",
   "metadata": {},
   "source": [
    "# How many goals are we seeing in these games?"
   ]
  },
  {
   "cell_type": "markdown",
   "metadata": {},
   "source": []
  },
  {
   "cell_type": "code",
   "execution_count": 94,
   "metadata": {},
   "outputs": [
    {
     "data": {
      "text/plain": [
       "1064"
      ]
     },
     "execution_count": 94,
     "metadata": {},
     "output_type": "execute_result"
    }
   ],
   "source": [
    "total_goals = pl_results_2017['away_score'].sum() + pl_results_2017['home_score'].sum()\n",
    "total_goals"
   ]
  },
  {
   "cell_type": "markdown",
   "metadata": {},
   "source": [
    "Adding over or under column, over will be 1, under will be 0"
   ]
  },
  {
   "cell_type": "code",
   "execution_count": 114,
   "metadata": {},
   "outputs": [],
   "source": [
    "def add_ou(season):\n",
    "    season['over/under'] = np.where(season['home_score'] + season['away_score'] > 2.5, 1, 0)\n",
    "    return season"
   ]
  },
  {
   "cell_type": "code",
   "execution_count": 117,
   "metadata": {},
   "outputs": [
    {
     "data": {
      "text/html": [
       "<div>\n",
       "<style scoped>\n",
       "    .dataframe tbody tr th:only-of-type {\n",
       "        vertical-align: middle;\n",
       "    }\n",
       "\n",
       "    .dataframe tbody tr th {\n",
       "        vertical-align: top;\n",
       "    }\n",
       "\n",
       "    .dataframe thead th {\n",
       "        text-align: right;\n",
       "    }\n",
       "</style>\n",
       "<table border=\"1\" class=\"dataframe\">\n",
       "  <thead>\n",
       "    <tr style=\"text-align: right;\">\n",
       "      <th></th>\n",
       "      <th>Wk</th>\n",
       "      <th>Day</th>\n",
       "      <th>Date</th>\n",
       "      <th>Time</th>\n",
       "      <th>Home</th>\n",
       "      <th>Away</th>\n",
       "      <th>home_score</th>\n",
       "      <th>away_score</th>\n",
       "      <th>Venue</th>\n",
       "      <th>Referee</th>\n",
       "      <th>over/under</th>\n",
       "    </tr>\n",
       "  </thead>\n",
       "  <tbody>\n",
       "    <tr>\n",
       "      <th>0</th>\n",
       "      <td>1</td>\n",
       "      <td>Fri</td>\n",
       "      <td>2020-09-11</td>\n",
       "      <td>19:45 (14:45)</td>\n",
       "      <td>Watford</td>\n",
       "      <td>Middlesbrough</td>\n",
       "      <td>1</td>\n",
       "      <td>0</td>\n",
       "      <td>Vicarage Road Stadium</td>\n",
       "      <td>Keith Stroud</td>\n",
       "      <td>0</td>\n",
       "    </tr>\n",
       "    <tr>\n",
       "      <th>1</th>\n",
       "      <td>1</td>\n",
       "      <td>Sat</td>\n",
       "      <td>2020-09-12</td>\n",
       "      <td>12:30 (07:30)</td>\n",
       "      <td>Wycombe</td>\n",
       "      <td>Rotherham Utd</td>\n",
       "      <td>0</td>\n",
       "      <td>1</td>\n",
       "      <td>Adams Park</td>\n",
       "      <td>James Linington</td>\n",
       "      <td>0</td>\n",
       "    </tr>\n",
       "    <tr>\n",
       "      <th>2</th>\n",
       "      <td>1</td>\n",
       "      <td>Sat</td>\n",
       "      <td>2020-09-12</td>\n",
       "      <td>12:30 (07:30)</td>\n",
       "      <td>Birmingham City</td>\n",
       "      <td>Brentford</td>\n",
       "      <td>1</td>\n",
       "      <td>0</td>\n",
       "      <td>St Andrew's Trillion Trophy Stadium</td>\n",
       "      <td>Tony Harrington</td>\n",
       "      <td>0</td>\n",
       "    </tr>\n",
       "    <tr>\n",
       "      <th>3</th>\n",
       "      <td>1</td>\n",
       "      <td>Sat</td>\n",
       "      <td>2020-09-12</td>\n",
       "      <td>15:00 (10:00)</td>\n",
       "      <td>Bournemouth</td>\n",
       "      <td>Blackburn</td>\n",
       "      <td>3</td>\n",
       "      <td>2</td>\n",
       "      <td>Vitality Stadium</td>\n",
       "      <td>Gavin Ward</td>\n",
       "      <td>1</td>\n",
       "    </tr>\n",
       "    <tr>\n",
       "      <th>4</th>\n",
       "      <td>1</td>\n",
       "      <td>Sat</td>\n",
       "      <td>2020-09-12</td>\n",
       "      <td>15:00 (10:00)</td>\n",
       "      <td>Huddersfield</td>\n",
       "      <td>Norwich City</td>\n",
       "      <td>0</td>\n",
       "      <td>1</td>\n",
       "      <td>The John Smith's Stadium</td>\n",
       "      <td>Geoff Eltringham</td>\n",
       "      <td>0</td>\n",
       "    </tr>\n",
       "    <tr>\n",
       "      <th>...</th>\n",
       "      <td>...</td>\n",
       "      <td>...</td>\n",
       "      <td>...</td>\n",
       "      <td>...</td>\n",
       "      <td>...</td>\n",
       "      <td>...</td>\n",
       "      <td>...</td>\n",
       "      <td>...</td>\n",
       "      <td>...</td>\n",
       "      <td>...</td>\n",
       "      <td>...</td>\n",
       "    </tr>\n",
       "    <tr>\n",
       "      <th>547</th>\n",
       "      <td>46</td>\n",
       "      <td>Sat</td>\n",
       "      <td>2021-05-08</td>\n",
       "      <td>12:30 (07:30)</td>\n",
       "      <td>Coventry City</td>\n",
       "      <td>Millwall</td>\n",
       "      <td>6</td>\n",
       "      <td>1</td>\n",
       "      <td>St Andrew's Trillion Trophy Stadium</td>\n",
       "      <td>Michael Salisbury</td>\n",
       "      <td>1</td>\n",
       "    </tr>\n",
       "    <tr>\n",
       "      <th>548</th>\n",
       "      <td>46</td>\n",
       "      <td>Sat</td>\n",
       "      <td>2021-05-08</td>\n",
       "      <td>12:30 (07:30)</td>\n",
       "      <td>Cardiff City</td>\n",
       "      <td>Rotherham Utd</td>\n",
       "      <td>1</td>\n",
       "      <td>1</td>\n",
       "      <td>Cardiff City Stadium</td>\n",
       "      <td>Graham Scott</td>\n",
       "      <td>0</td>\n",
       "    </tr>\n",
       "    <tr>\n",
       "      <th>549</th>\n",
       "      <td>46</td>\n",
       "      <td>Sat</td>\n",
       "      <td>2021-05-08</td>\n",
       "      <td>12:30 (07:30)</td>\n",
       "      <td>Middlesbrough</td>\n",
       "      <td>Wycombe</td>\n",
       "      <td>0</td>\n",
       "      <td>3</td>\n",
       "      <td>Riverside Stadium</td>\n",
       "      <td>Martin Atkinson</td>\n",
       "      <td>1</td>\n",
       "    </tr>\n",
       "    <tr>\n",
       "      <th>550</th>\n",
       "      <td>46</td>\n",
       "      <td>Sat</td>\n",
       "      <td>2021-05-08</td>\n",
       "      <td>12:30 (07:30)</td>\n",
       "      <td>Bristol City</td>\n",
       "      <td>Brentford</td>\n",
       "      <td>1</td>\n",
       "      <td>3</td>\n",
       "      <td>Ashton Gate Stadium</td>\n",
       "      <td>James Linington</td>\n",
       "      <td>1</td>\n",
       "    </tr>\n",
       "    <tr>\n",
       "      <th>551</th>\n",
       "      <td>46</td>\n",
       "      <td>Sat</td>\n",
       "      <td>2021-05-08</td>\n",
       "      <td>12:30 (07:30)</td>\n",
       "      <td>QPR</td>\n",
       "      <td>Luton Town</td>\n",
       "      <td>3</td>\n",
       "      <td>1</td>\n",
       "      <td>Loftus Road Stadium</td>\n",
       "      <td>Tony Harrington</td>\n",
       "      <td>1</td>\n",
       "    </tr>\n",
       "  </tbody>\n",
       "</table>\n",
       "<p>552 rows × 11 columns</p>\n",
       "</div>"
      ],
      "text/plain": [
       "     Wk  Day        Date           Time             Home           Away  \\\n",
       "0     1  Fri  2020-09-11  19:45 (14:45)          Watford  Middlesbrough   \n",
       "1     1  Sat  2020-09-12  12:30 (07:30)          Wycombe  Rotherham Utd   \n",
       "2     1  Sat  2020-09-12  12:30 (07:30)  Birmingham City      Brentford   \n",
       "3     1  Sat  2020-09-12  15:00 (10:00)      Bournemouth      Blackburn   \n",
       "4     1  Sat  2020-09-12  15:00 (10:00)     Huddersfield   Norwich City   \n",
       "..   ..  ...         ...            ...              ...            ...   \n",
       "547  46  Sat  2021-05-08  12:30 (07:30)    Coventry City       Millwall   \n",
       "548  46  Sat  2021-05-08  12:30 (07:30)     Cardiff City  Rotherham Utd   \n",
       "549  46  Sat  2021-05-08  12:30 (07:30)    Middlesbrough        Wycombe   \n",
       "550  46  Sat  2021-05-08  12:30 (07:30)     Bristol City      Brentford   \n",
       "551  46  Sat  2021-05-08  12:30 (07:30)              QPR     Luton Town   \n",
       "\n",
       "     home_score  away_score                                Venue  \\\n",
       "0             1           0                Vicarage Road Stadium   \n",
       "1             0           1                           Adams Park   \n",
       "2             1           0  St Andrew's Trillion Trophy Stadium   \n",
       "3             3           2                     Vitality Stadium   \n",
       "4             0           1             The John Smith's Stadium   \n",
       "..          ...         ...                                  ...   \n",
       "547           6           1  St Andrew's Trillion Trophy Stadium   \n",
       "548           1           1                 Cardiff City Stadium   \n",
       "549           0           3                    Riverside Stadium   \n",
       "550           1           3                  Ashton Gate Stadium   \n",
       "551           3           1                  Loftus Road Stadium   \n",
       "\n",
       "               Referee  over/under  \n",
       "0         Keith Stroud           0  \n",
       "1      James Linington           0  \n",
       "2      Tony Harrington           0  \n",
       "3           Gavin Ward           1  \n",
       "4     Geoff Eltringham           0  \n",
       "..                 ...         ...  \n",
       "547  Michael Salisbury           1  \n",
       "548       Graham Scott           0  \n",
       "549    Martin Atkinson           1  \n",
       "550    James Linington           1  \n",
       "551    Tony Harrington           1  \n",
       "\n",
       "[552 rows x 11 columns]"
      ]
     },
     "execution_count": 117,
     "metadata": {},
     "output_type": "execute_result"
    }
   ],
   "source": [
    "add_ou(pl_results_2017)\n",
    "add_ou(pl_results_2018)\n",
    "add_ou(pl_results_2019)\n",
    "add_ou(pl_results_2020)\n",
    "add_ou(pl_results_2021)\n",
    "add_ou(champ_results_2017)\n",
    "add_ou(champ_results_2018)\n",
    "add_ou(champ_results_2019)\n",
    "add_ou(champ_results_2020)\n",
    "add_ou(champ_results_2021)"
   ]
  },
  {
   "cell_type": "code",
   "execution_count": 128,
   "metadata": {},
   "outputs": [
    {
     "data": {
      "text/plain": [
       "0    326\n",
       "1    226\n",
       "Name: over/under, dtype: int64"
      ]
     },
     "execution_count": 128,
     "metadata": {},
     "output_type": "execute_result"
    }
   ],
   "source": [
    "pl_results_2017['over/under'].value_counts()\n",
    "pl_results_2018['over/under'].value_counts()\n",
    "pl_results_2019['over/under'].value_counts()\n",
    "pl_results_2020['over/under'].value_counts()\n",
    "pl_results_2021['over/under'].value_counts()\n",
    "\n",
    "champ_results_2017['over/under'].value_counts()\n",
    "champ_results_2018['over/under'].value_counts()\n",
    "champ_results_2019['over/under'].value_counts()\n",
    "champ_results_2020['over/under'].value_counts()\n",
    "champ_results_2021['over/under'].value_counts()\n",
    "\n",
    "#can add some more to clean this up"
   ]
  },
  {
   "cell_type": "code",
   "execution_count": null,
   "metadata": {},
   "outputs": [],
   "source": []
  },
  {
   "cell_type": "code",
   "execution_count": null,
   "metadata": {},
   "outputs": [],
   "source": []
  },
  {
   "cell_type": "code",
   "execution_count": null,
   "metadata": {},
   "outputs": [],
   "source": []
  },
  {
   "cell_type": "code",
   "execution_count": null,
   "metadata": {},
   "outputs": [],
   "source": []
  },
  {
   "cell_type": "code",
   "execution_count": null,
   "metadata": {},
   "outputs": [],
   "source": []
  }
 ],
 "metadata": {
  "kernelspec": {
   "display_name": "Python 3",
   "language": "python",
   "name": "python3"
  },
  "language_info": {
   "codemirror_mode": {
    "name": "ipython",
    "version": 3
   },
   "file_extension": ".py",
   "mimetype": "text/x-python",
   "name": "python",
   "nbconvert_exporter": "python",
   "pygments_lexer": "ipython3",
   "version": "3.8.3"
  }
 },
 "nbformat": 4,
 "nbformat_minor": 4
}
